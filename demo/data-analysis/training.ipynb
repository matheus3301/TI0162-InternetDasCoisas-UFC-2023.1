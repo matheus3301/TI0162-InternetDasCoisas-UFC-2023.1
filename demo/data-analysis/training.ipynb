{
 "cells": [
  {
   "cell_type": "code",
   "execution_count": 4,
   "id": "6dc785da-01a4-4f9f-814a-dfeddb6d30d7",
   "metadata": {
    "tags": []
   },
   "outputs": [],
   "source": [
    "import pandas as pd\n",
    "import numpy as np\n",
    "\n",
    "import sklearn.preprocessing\n",
    "import sklearn.ensemble\n",
    "from sklearn.metrics import accuracy_score\n",
    "from sklearn.metrics import classification_report\n",
    "\n",
    "from joblib import dump, load"
   ]
  },
  {
   "cell_type": "markdown",
   "id": "2dcdec74-3e5a-4415-acae-f6cc23b730b5",
   "metadata": {},
   "source": [
    "# Importando, Pré-processando os Dados"
   ]
  },
  {
   "cell_type": "code",
   "execution_count": 5,
   "id": "da3abb19-6064-4e1a-bfd0-a0526cabd020",
   "metadata": {
    "tags": []
   },
   "outputs": [],
   "source": [
    "df_train = pd.read_csv(\"concatened-data/train.csv\")\n",
    "df_test = pd.read_csv(\"concatened-data/test.csv\")\n",
    "\n",
    "cols = ['x','y','z','anomaly']\n",
    "\n",
    "df_test.anomaly = df_test.anomaly.astype('boolean')\n",
    "df_train.anomaly = df_train.anomaly.astype('boolean')"
   ]
  },
  {
   "cell_type": "markdown",
   "id": "499d690f-d714-4a77-8e25-4b616bceb60e",
   "metadata": {},
   "source": [
    "# Treinamento"
   ]
  },
  {
   "cell_type": "code",
   "execution_count": 6,
   "id": "52d86034-296b-4ab9-8782-9da687d61d71",
   "metadata": {
    "tags": []
   },
   "outputs": [
    {
     "name": "stdout",
     "output_type": "stream",
     "text": [
      "Evaluating: Random Forest Classifier\n",
      "accuracy_score 94.42890442890443\n",
      "\n",
      "Classification Report\n",
      "              precision    recall  f1-score   support\n",
      "\n",
      "         0.0       0.95      1.00      0.97     28420\n",
      "         1.0       0.26      0.02      0.04      1610\n",
      "\n",
      "    accuracy                           0.94     30030\n",
      "   macro avg       0.60      0.51      0.51     30030\n",
      "weighted avg       0.91      0.94      0.92     30030\n",
      "\n"
     ]
    }
   ],
   "source": [
    "X_train = df_train.drop(columns=[\"anomaly\"], axis=1)\n",
    "y_train = df_train[\"anomaly\"]\n",
    "X_test = df_test.drop(columns=[\"anomaly\"], axis=1)\n",
    "y_test = df_test[\"anomaly\"]\n",
    "\n",
    "def train_model(model, model_name):\n",
    "    print(f\"Evaluating: {model_name}\")\n",
    "    accuracy = {}\n",
    "    \n",
    "    model = model.fit(X_train, y_train)\n",
    "    pred = model.predict(X_test)\n",
    "    \n",
    "    acc = accuracy_score(y_test, pred)*100\n",
    "    accuracy[model_name] = acc\n",
    "    print('accuracy_score',acc)\n",
    "    print()\n",
    "    \n",
    "    print('Classification Report')\n",
    "    print(classification_report(y_test, pred))    \n",
    "    \n",
    "random_forest = sklearn.ensemble.RandomForestClassifier(n_estimators = 1500, n_jobs=-1, max_depth=15, \n",
    "                             min_samples_split=5, min_samples_leaf=3)\n",
    "\n",
    "train_model(random_forest, 'Random Forest Classifier')"
   ]
  },
  {
   "cell_type": "markdown",
   "id": "0ba7a3f0-c6bf-4ff1-91c8-ba66c310fc20",
   "metadata": {},
   "source": [
    "# Exportando o Modelo"
   ]
  },
  {
   "cell_type": "code",
   "execution_count": 7,
   "id": "c81130de-623f-45e0-b65f-acc3ab8ab960",
   "metadata": {
    "tags": []
   },
   "outputs": [
    {
     "data": {
      "text/plain": [
       "['model.joblib']"
      ]
     },
     "execution_count": 7,
     "metadata": {},
     "output_type": "execute_result"
    }
   ],
   "source": [
    "dump(random_forest, 'model.joblib')"
   ]
  }
 ],
 "metadata": {
  "kernelspec": {
   "display_name": "Python 3 (ipykernel)",
   "language": "python",
   "name": "python3"
  },
  "language_info": {
   "codemirror_mode": {
    "name": "ipython",
    "version": 3
   },
   "file_extension": ".py",
   "mimetype": "text/x-python",
   "name": "python",
   "nbconvert_exporter": "python",
   "pygments_lexer": "ipython3",
   "version": "3.10.6"
  }
 },
 "nbformat": 4,
 "nbformat_minor": 5
}
